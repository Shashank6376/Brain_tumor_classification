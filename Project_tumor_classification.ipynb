{
  "cells": [
    {
      "cell_type": "markdown",
      "id": "banned-filename",
      "metadata": {
        "_cell_guid": "b1076dfc-b9ad-4769-8c92-a6c4dae69d19",
        "_uuid": "8f2839f25d086af736a60e9eeb907d3b93b6e0e5",
        "execution": {
          "iopub.execute_input": "2021-06-03T04:28:30.135945Z",
          "iopub.status.busy": "2021-06-03T04:28:30.135567Z",
          "iopub.status.idle": "2021-06-03T04:28:30.144317Z",
          "shell.execute_reply": "2021-06-03T04:28:30.142827Z",
          "shell.execute_reply.started": "2021-06-03T04:28:30.135915Z"
        },
        "papermill": {
          "duration": 0.024032,
          "end_time": "2021-06-04T03:27:00.441377",
          "exception": false,
          "start_time": "2021-06-04T03:27:00.417345",
          "status": "completed"
        },
        "tags": [],
        "id": "banned-filename"
      },
      "source": [
        "# **DETECTING BRAIN TUMOR WITH CNN**\n",
        "\n",
        "![](https://www.researchgate.net/profile/Tamije-Selvy-Perumal/publication/265477512/figure/fig1/AS:462790839279619@1487349342768/a-Original-MRI-brain-tumor-image-b-Colored-MRI-image.png)\n",
        "\n",
        "\n",
        "*My aim is to predict whether a patient has any kind of tumor or not based on a MRI scan of brain.*"
      ]
    },
    {
      "cell_type": "markdown",
      "id": "parallel-there",
      "metadata": {
        "papermill": {
          "duration": 0.022218,
          "end_time": "2021-06-04T03:27:00.486050",
          "exception": false,
          "start_time": "2021-06-04T03:27:00.463832",
          "status": "completed"
        },
        "tags": [],
        "id": "parallel-there"
      },
      "source": [
        "# Steps Involved\n",
        "\n",
        "* Import all the necessary modules & load the data.\n",
        "* Observe the data and determine the number of output classes (4 in this case).\n",
        "* Define labels for each of the output class. \n",
        "* Read & save the images along with their respective labels.\n",
        "* Create Train and Test set.\n",
        "* Define the CNN model & set the number of output classes.\n",
        "* Train & observe the model, then tune hyperparams accordingly.\n",
        "* Predict & save our model."
      ]
    },
    {
      "cell_type": "code",
      "execution_count": 1,
      "metadata": {
        "id": "GQ18Kd5F3uKe",
        "colab": {
          "base_uri": "https://localhost:8080/"
        },
        "outputId": "f8e69bef-768a-4cce-9bcb-b1e39118f139"
      },
      "outputs": [
        {
          "output_type": "stream",
          "name": "stdout",
          "text": [
            "Looking in indexes: https://pypi.org/simple, https://us-python.pkg.dev/colab-wheels/public/simple/\n",
            "Collecting Keras==2.9.0\n",
            "  Downloading keras-2.9.0-py2.py3-none-any.whl (1.6 MB)\n",
            "\u001b[K     |████████████████████████████████| 1.6 MB 5.5 MB/s \n",
            "\u001b[?25hInstalling collected packages: Keras\n",
            "  Attempting uninstall: Keras\n",
            "    Found existing installation: keras 2.8.0\n",
            "    Uninstalling keras-2.8.0:\n",
            "      Successfully uninstalled keras-2.8.0\n",
            "\u001b[31mERROR: pip's dependency resolver does not currently take into account all the packages that are installed. This behaviour is the source of the following dependency conflicts.\n",
            "tensorflow 2.8.2+zzzcolab20220719082949 requires keras<2.9,>=2.8.0rc0, but you have keras 2.9.0 which is incompatible.\u001b[0m\n",
            "Successfully installed Keras-2.9.0\n",
            "Looking in indexes: https://pypi.org/simple, https://us-python.pkg.dev/colab-wheels/public/simple/\n",
            "Collecting Keras-Applications==1.0.8\n",
            "  Downloading Keras_Applications-1.0.8-py3-none-any.whl (50 kB)\n",
            "\u001b[K     |████████████████████████████████| 50 kB 3.4 MB/s \n",
            "\u001b[?25hRequirement already satisfied: numpy>=1.9.1 in /usr/local/lib/python3.7/dist-packages (from Keras-Applications==1.0.8) (1.21.6)\n",
            "Requirement already satisfied: h5py in /usr/local/lib/python3.7/dist-packages (from Keras-Applications==1.0.8) (3.1.0)\n",
            "Requirement already satisfied: cached-property in /usr/local/lib/python3.7/dist-packages (from h5py->Keras-Applications==1.0.8) (1.5.2)\n",
            "Installing collected packages: Keras-Applications\n",
            "Successfully installed Keras-Applications-1.0.8\n",
            "Looking in indexes: https://pypi.org/simple, https://us-python.pkg.dev/colab-wheels/public/simple/\n",
            "Collecting Keras-Preprocessing==1.1.0\n",
            "  Downloading Keras_Preprocessing-1.1.0-py2.py3-none-any.whl (41 kB)\n",
            "\u001b[K     |████████████████████████████████| 41 kB 477 kB/s \n",
            "\u001b[?25hRequirement already satisfied: six>=1.9.0 in /usr/local/lib/python3.7/dist-packages (from Keras-Preprocessing==1.1.0) (1.15.0)\n",
            "Requirement already satisfied: numpy>=1.9.1 in /usr/local/lib/python3.7/dist-packages (from Keras-Preprocessing==1.1.0) (1.21.6)\n",
            "Installing collected packages: Keras-Preprocessing\n",
            "  Attempting uninstall: Keras-Preprocessing\n",
            "    Found existing installation: Keras-Preprocessing 1.1.2\n",
            "    Uninstalling Keras-Preprocessing-1.1.2:\n",
            "      Successfully uninstalled Keras-Preprocessing-1.1.2\n",
            "\u001b[31mERROR: pip's dependency resolver does not currently take into account all the packages that are installed. This behaviour is the source of the following dependency conflicts.\n",
            "tensorflow 2.8.2+zzzcolab20220719082949 requires keras<2.9,>=2.8.0rc0, but you have keras 2.9.0 which is incompatible.\n",
            "tensorflow 2.8.2+zzzcolab20220719082949 requires keras-preprocessing>=1.1.1, but you have keras-preprocessing 1.1.0 which is incompatible.\u001b[0m\n",
            "Successfully installed Keras-Preprocessing-1.1.0\n"
          ]
        }
      ],
      "source": [
        "!pip install Keras==2.9.0\n",
        "!pip install Keras-Applications==1.0.8\n",
        "!pip install Keras-Preprocessing==1.1.0"
      ],
      "id": "GQ18Kd5F3uKe"
    },
    {
      "cell_type": "code",
      "source": [
        "!pip install tensorflow"
      ],
      "metadata": {
        "colab": {
          "base_uri": "https://localhost:8080/"
        },
        "id": "VgsmBymqaRAy",
        "outputId": "f657de6d-942d-4107-eb23-638f2a3c846a"
      },
      "id": "VgsmBymqaRAy",
      "execution_count": 2,
      "outputs": [
        {
          "output_type": "stream",
          "name": "stdout",
          "text": [
            "Looking in indexes: https://pypi.org/simple, https://us-python.pkg.dev/colab-wheels/public/simple/\n",
            "Requirement already satisfied: tensorflow in /usr/local/lib/python3.7/dist-packages (2.8.2+zzzcolab20220719082949)\n",
            "Requirement already satisfied: absl-py>=0.4.0 in /usr/local/lib/python3.7/dist-packages (from tensorflow) (1.2.0)\n",
            "Requirement already satisfied: grpcio<2.0,>=1.24.3 in /usr/local/lib/python3.7/dist-packages (from tensorflow) (1.47.0)\n",
            "Requirement already satisfied: protobuf<3.20,>=3.9.2 in /usr/local/lib/python3.7/dist-packages (from tensorflow) (3.17.3)\n",
            "Requirement already satisfied: h5py>=2.9.0 in /usr/local/lib/python3.7/dist-packages (from tensorflow) (3.1.0)\n",
            "Requirement already satisfied: opt-einsum>=2.3.2 in /usr/local/lib/python3.7/dist-packages (from tensorflow) (3.3.0)\n",
            "Collecting keras-preprocessing>=1.1.1\n",
            "  Downloading Keras_Preprocessing-1.1.2-py2.py3-none-any.whl (42 kB)\n",
            "\u001b[K     |████████████████████████████████| 42 kB 867 kB/s \n",
            "\u001b[?25hRequirement already satisfied: google-pasta>=0.1.1 in /usr/local/lib/python3.7/dist-packages (from tensorflow) (0.2.0)\n",
            "Requirement already satisfied: gast>=0.2.1 in /usr/local/lib/python3.7/dist-packages (from tensorflow) (0.5.3)\n",
            "Requirement already satisfied: flatbuffers>=1.12 in /usr/local/lib/python3.7/dist-packages (from tensorflow) (2.0)\n",
            "Requirement already satisfied: typing-extensions>=3.6.6 in /usr/local/lib/python3.7/dist-packages (from tensorflow) (4.1.1)\n",
            "Requirement already satisfied: tensorflow-io-gcs-filesystem>=0.23.1 in /usr/local/lib/python3.7/dist-packages (from tensorflow) (0.26.0)\n",
            "Requirement already satisfied: astunparse>=1.6.0 in /usr/local/lib/python3.7/dist-packages (from tensorflow) (1.6.3)\n",
            "Requirement already satisfied: wrapt>=1.11.0 in /usr/local/lib/python3.7/dist-packages (from tensorflow) (1.14.1)\n",
            "Requirement already satisfied: six>=1.12.0 in /usr/local/lib/python3.7/dist-packages (from tensorflow) (1.15.0)\n",
            "Requirement already satisfied: numpy>=1.20 in /usr/local/lib/python3.7/dist-packages (from tensorflow) (1.21.6)\n",
            "Requirement already satisfied: tensorflow-estimator<2.9,>=2.8 in /usr/local/lib/python3.7/dist-packages (from tensorflow) (2.8.0)\n",
            "Requirement already satisfied: termcolor>=1.1.0 in /usr/local/lib/python3.7/dist-packages (from tensorflow) (1.1.0)\n",
            "Collecting keras<2.9,>=2.8.0rc0\n",
            "  Downloading keras-2.8.0-py2.py3-none-any.whl (1.4 MB)\n",
            "\u001b[K     |████████████████████████████████| 1.4 MB 9.4 MB/s \n",
            "\u001b[?25hRequirement already satisfied: tensorboard<2.9,>=2.8 in /usr/local/lib/python3.7/dist-packages (from tensorflow) (2.8.0)\n",
            "Requirement already satisfied: setuptools in /usr/local/lib/python3.7/dist-packages (from tensorflow) (57.4.0)\n",
            "Requirement already satisfied: libclang>=9.0.1 in /usr/local/lib/python3.7/dist-packages (from tensorflow) (14.0.1)\n",
            "Requirement already satisfied: wheel<1.0,>=0.23.0 in /usr/local/lib/python3.7/dist-packages (from astunparse>=1.6.0->tensorflow) (0.37.1)\n",
            "Requirement already satisfied: cached-property in /usr/local/lib/python3.7/dist-packages (from h5py>=2.9.0->tensorflow) (1.5.2)\n",
            "Requirement already satisfied: markdown>=2.6.8 in /usr/local/lib/python3.7/dist-packages (from tensorboard<2.9,>=2.8->tensorflow) (3.4.1)\n",
            "Requirement already satisfied: requests<3,>=2.21.0 in /usr/local/lib/python3.7/dist-packages (from tensorboard<2.9,>=2.8->tensorflow) (2.23.0)\n",
            "Requirement already satisfied: tensorboard-plugin-wit>=1.6.0 in /usr/local/lib/python3.7/dist-packages (from tensorboard<2.9,>=2.8->tensorflow) (1.8.1)\n",
            "Requirement already satisfied: google-auth-oauthlib<0.5,>=0.4.1 in /usr/local/lib/python3.7/dist-packages (from tensorboard<2.9,>=2.8->tensorflow) (0.4.6)\n",
            "Requirement already satisfied: google-auth<3,>=1.6.3 in /usr/local/lib/python3.7/dist-packages (from tensorboard<2.9,>=2.8->tensorflow) (1.35.0)\n",
            "Requirement already satisfied: tensorboard-data-server<0.7.0,>=0.6.0 in /usr/local/lib/python3.7/dist-packages (from tensorboard<2.9,>=2.8->tensorflow) (0.6.1)\n",
            "Requirement already satisfied: werkzeug>=0.11.15 in /usr/local/lib/python3.7/dist-packages (from tensorboard<2.9,>=2.8->tensorflow) (1.0.1)\n",
            "Requirement already satisfied: cachetools<5.0,>=2.0.0 in /usr/local/lib/python3.7/dist-packages (from google-auth<3,>=1.6.3->tensorboard<2.9,>=2.8->tensorflow) (4.2.4)\n",
            "Requirement already satisfied: pyasn1-modules>=0.2.1 in /usr/local/lib/python3.7/dist-packages (from google-auth<3,>=1.6.3->tensorboard<2.9,>=2.8->tensorflow) (0.2.8)\n",
            "Requirement already satisfied: rsa<5,>=3.1.4 in /usr/local/lib/python3.7/dist-packages (from google-auth<3,>=1.6.3->tensorboard<2.9,>=2.8->tensorflow) (4.9)\n",
            "Requirement already satisfied: requests-oauthlib>=0.7.0 in /usr/local/lib/python3.7/dist-packages (from google-auth-oauthlib<0.5,>=0.4.1->tensorboard<2.9,>=2.8->tensorflow) (1.3.1)\n",
            "Requirement already satisfied: importlib-metadata>=4.4 in /usr/local/lib/python3.7/dist-packages (from markdown>=2.6.8->tensorboard<2.9,>=2.8->tensorflow) (4.12.0)\n",
            "Requirement already satisfied: zipp>=0.5 in /usr/local/lib/python3.7/dist-packages (from importlib-metadata>=4.4->markdown>=2.6.8->tensorboard<2.9,>=2.8->tensorflow) (3.8.1)\n",
            "Requirement already satisfied: pyasn1<0.5.0,>=0.4.6 in /usr/local/lib/python3.7/dist-packages (from pyasn1-modules>=0.2.1->google-auth<3,>=1.6.3->tensorboard<2.9,>=2.8->tensorflow) (0.4.8)\n",
            "Requirement already satisfied: certifi>=2017.4.17 in /usr/local/lib/python3.7/dist-packages (from requests<3,>=2.21.0->tensorboard<2.9,>=2.8->tensorflow) (2022.6.15)\n",
            "Requirement already satisfied: idna<3,>=2.5 in /usr/local/lib/python3.7/dist-packages (from requests<3,>=2.21.0->tensorboard<2.9,>=2.8->tensorflow) (2.10)\n",
            "Requirement already satisfied: chardet<4,>=3.0.2 in /usr/local/lib/python3.7/dist-packages (from requests<3,>=2.21.0->tensorboard<2.9,>=2.8->tensorflow) (3.0.4)\n",
            "Requirement already satisfied: urllib3!=1.25.0,!=1.25.1,<1.26,>=1.21.1 in /usr/local/lib/python3.7/dist-packages (from requests<3,>=2.21.0->tensorboard<2.9,>=2.8->tensorflow) (1.24.3)\n",
            "Requirement already satisfied: oauthlib>=3.0.0 in /usr/local/lib/python3.7/dist-packages (from requests-oauthlib>=0.7.0->google-auth-oauthlib<0.5,>=0.4.1->tensorboard<2.9,>=2.8->tensorflow) (3.2.0)\n",
            "Installing collected packages: keras-preprocessing, keras\n",
            "  Attempting uninstall: keras-preprocessing\n",
            "    Found existing installation: Keras-Preprocessing 1.1.0\n",
            "    Uninstalling Keras-Preprocessing-1.1.0:\n",
            "      Successfully uninstalled Keras-Preprocessing-1.1.0\n",
            "  Attempting uninstall: keras\n",
            "    Found existing installation: keras 2.9.0\n",
            "    Uninstalling keras-2.9.0:\n",
            "      Successfully uninstalled keras-2.9.0\n",
            "Successfully installed keras-2.8.0 keras-preprocessing-1.1.2\n"
          ]
        }
      ]
    },
    {
      "cell_type": "code",
      "execution_count": 3,
      "metadata": {
        "execution": {
          "iopub.execute_input": "2021-06-04T03:27:00.581244Z",
          "iopub.status.busy": "2021-06-04T03:27:00.579602Z",
          "iopub.status.idle": "2021-06-04T03:27:06.134428Z",
          "shell.execute_reply": "2021-06-04T03:27:06.133378Z",
          "shell.execute_reply.started": "2021-06-04T03:03:51.578233Z"
        },
        "papermill": {
          "duration": 5.581214,
          "end_time": "2021-06-04T03:27:06.134617",
          "exception": false,
          "start_time": "2021-06-04T03:27:00.553403",
          "status": "completed"
        },
        "tags": [],
        "id": "assisted-senegal"
      },
      "outputs": [],
      "source": [
        "import os\n",
        "import tensorflow \n",
        "import numpy as np\n",
        "import pandas as pd\n",
        "import matplotlib.pyplot as plt\n",
        "import matplotlib.image as mpimg\n",
        "import seaborn as sns\n",
        "import cv2\n",
        "from sklearn.model_selection import train_test_split\n",
        "from tqdm import tqdm\n",
        "from sklearn.utils import shuffle"
      ],
      "id": "assisted-senegal"
    },
    {
      "cell_type": "markdown",
      "id": "developing-exploration",
      "metadata": {
        "papermill": {
          "duration": 0.022423,
          "end_time": "2021-06-04T03:27:00.531059",
          "exception": false,
          "start_time": "2021-06-04T03:27:00.508636",
          "status": "completed"
        },
        "tags": [],
        "id": "developing-exploration"
      },
      "source": [
        "# Imports"
      ]
    },
    {
      "cell_type": "markdown",
      "id": "instrumental-assist",
      "metadata": {
        "papermill": {
          "duration": 0.02235,
          "end_time": "2021-06-04T03:27:06.179578",
          "exception": false,
          "start_time": "2021-06-04T03:27:06.157228",
          "status": "completed"
        },
        "tags": [],
        "id": "instrumental-assist"
      },
      "source": [
        "# Checking available files/folders"
      ]
    },
    {
      "cell_type": "code",
      "execution_count": 4,
      "id": "configured-round",
      "metadata": {
        "execution": {
          "iopub.execute_input": "2021-06-04T03:27:06.229037Z",
          "iopub.status.busy": "2021-06-04T03:27:06.228160Z",
          "iopub.status.idle": "2021-06-04T03:27:06.230883Z",
          "shell.execute_reply": "2021-06-04T03:27:06.230454Z",
          "shell.execute_reply.started": "2021-06-04T03:09:47.210410Z"
        },
        "papermill": {
          "duration": 0.028878,
          "end_time": "2021-06-04T03:27:06.230987",
          "exception": false,
          "start_time": "2021-06-04T03:27:06.202109",
          "status": "completed"
        },
        "tags": [],
        "id": "configured-round"
      },
      "outputs": [],
      "source": [
        "path = \"/content/drive/MyDrive/Brain-Tumor-Classification-DataSet-master\""
      ]
    },
    {
      "cell_type": "code",
      "execution_count": 5,
      "id": "union-funeral",
      "metadata": {
        "execution": {
          "iopub.execute_input": "2021-06-04T03:27:06.279544Z",
          "iopub.status.busy": "2021-06-04T03:27:06.278976Z",
          "iopub.status.idle": "2021-06-04T03:27:06.288931Z",
          "shell.execute_reply": "2021-06-04T03:27:06.289303Z",
          "shell.execute_reply.started": "2021-06-04T03:09:49.810312Z"
        },
        "papermill": {
          "duration": 0.036168,
          "end_time": "2021-06-04T03:27:06.289435",
          "exception": false,
          "start_time": "2021-06-04T03:27:06.253267",
          "status": "completed"
        },
        "tags": [],
        "colab": {
          "base_uri": "https://localhost:8080/"
        },
        "id": "union-funeral",
        "outputId": "32587d03-4540-4fc1-ef60-0457586abdfe"
      },
      "outputs": [
        {
          "output_type": "execute_result",
          "data": {
            "text/plain": [
              "['Testing', 'Training']"
            ]
          },
          "metadata": {},
          "execution_count": 5
        }
      ],
      "source": [
        "list(os.listdir(path))"
      ]
    },
    {
      "cell_type": "code",
      "source": [
        "from google.colab import drive\n",
        "drive.mount('/content/drive')"
      ],
      "metadata": {
        "colab": {
          "base_uri": "https://localhost:8080/"
        },
        "id": "kUpvFi5iUAvn",
        "outputId": "fa6aa7b8-9e85-4f4b-cc51-dba55fcd017d"
      },
      "id": "kUpvFi5iUAvn",
      "execution_count": 6,
      "outputs": [
        {
          "output_type": "stream",
          "name": "stdout",
          "text": [
            "Drive already mounted at /content/drive; to attempt to forcibly remount, call drive.mount(\"/content/drive\", force_remount=True).\n"
          ]
        }
      ]
    },
    {
      "cell_type": "code",
      "execution_count": 7,
      "id": "usual-heaven",
      "metadata": {
        "execution": {
          "iopub.execute_input": "2021-06-04T03:27:06.338267Z",
          "iopub.status.busy": "2021-06-04T03:27:06.337663Z",
          "iopub.status.idle": "2021-06-04T03:27:06.345279Z",
          "shell.execute_reply": "2021-06-04T03:27:06.345653Z",
          "shell.execute_reply.started": "2021-06-04T03:09:51.640534Z"
        },
        "papermill": {
          "duration": 0.033596,
          "end_time": "2021-06-04T03:27:06.345787",
          "exception": false,
          "start_time": "2021-06-04T03:27:06.312191",
          "status": "completed"
        },
        "tags": [],
        "colab": {
          "base_uri": "https://localhost:8080/"
        },
        "id": "usual-heaven",
        "outputId": "f8eecba3-3027-4c49-b084-035c0efd67d4"
      },
      "outputs": [
        {
          "output_type": "execute_result",
          "data": {
            "text/plain": [
              "['no_tumor', 'meningioma_tumor', 'glioma_tumor', 'pituitary_tumor']"
            ]
          },
          "metadata": {},
          "execution_count": 7
        }
      ],
      "source": [
        "\n",
        "list(os.listdir(path + \"/Training\"))"
      ]
    },
    {
      "cell_type": "code",
      "execution_count": 8,
      "id": "figured-administrator",
      "metadata": {
        "execution": {
          "iopub.execute_input": "2021-06-04T03:27:06.395360Z",
          "iopub.status.busy": "2021-06-04T03:27:06.394565Z",
          "iopub.status.idle": "2021-06-04T03:27:06.399909Z",
          "shell.execute_reply": "2021-06-04T03:27:06.399515Z",
          "shell.execute_reply.started": "2021-06-04T03:09:53.672120Z"
        },
        "papermill": {
          "duration": 0.031443,
          "end_time": "2021-06-04T03:27:06.400018",
          "exception": false,
          "start_time": "2021-06-04T03:27:06.368575",
          "status": "completed"
        },
        "tags": [],
        "id": "figured-administrator",
        "colab": {
          "base_uri": "https://localhost:8080/"
        },
        "outputId": "e1f9c4a0-a38b-4706-8929-f5127c5405ec"
      },
      "outputs": [
        {
          "output_type": "execute_result",
          "data": {
            "text/plain": [
              "['no_tumor', 'pituitary_tumor', 'glioma_tumor', 'meningioma_tumor']"
            ]
          },
          "metadata": {},
          "execution_count": 8
        }
      ],
      "source": [
        "list(os.listdir(path + \"/Testing\"))"
      ]
    },
    {
      "cell_type": "markdown",
      "id": "resistant-wright",
      "metadata": {
        "papermill": {
          "duration": 0.022802,
          "end_time": "2021-06-04T03:27:06.445959",
          "exception": false,
          "start_time": "2021-06-04T03:27:06.423157",
          "status": "completed"
        },
        "tags": [],
        "id": "resistant-wright"
      },
      "source": [
        "# Define labels of the output classes"
      ]
    },
    {
      "cell_type": "code",
      "execution_count": 9,
      "id": "homeless-original",
      "metadata": {
        "execution": {
          "iopub.execute_input": "2021-06-04T03:27:06.497331Z",
          "iopub.status.busy": "2021-06-04T03:27:06.496528Z",
          "iopub.status.idle": "2021-06-04T03:27:06.498725Z",
          "shell.execute_reply": "2021-06-04T03:27:06.499168Z",
          "shell.execute_reply.started": "2021-06-04T03:04:13.072228Z"
        },
        "papermill": {
          "duration": 0.030301,
          "end_time": "2021-06-04T03:27:06.499296",
          "exception": false,
          "start_time": "2021-06-04T03:27:06.468995",
          "status": "completed"
        },
        "tags": [],
        "id": "homeless-original"
      },
      "outputs": [],
      "source": [
        "labels = ['glioma_tumor','no_tumor','meningioma_tumor','pituitary_tumor']\n",
        "\n",
        "class_map = {\n",
        "    'no_tumor': 0,\n",
        "    'glioma_tumor': 1,\n",
        "    'meningioma_tumor': 2,\n",
        "    'pituitary_tumor': 3\n",
        "}\n",
        "\n",
        "inverse_class_map = {\n",
        "    0: 'no_tumor',\n",
        "    1: 'glioma_tumor',\n",
        "    2: 'meningioma_tumor',\n",
        "    3: 'pituitary_tumor'\n",
        "}"
      ]
    },
    {
      "cell_type": "markdown",
      "id": "inner-forth",
      "metadata": {
        "papermill": {
          "duration": 0.022648,
          "end_time": "2021-06-04T03:27:06.545271",
          "exception": false,
          "start_time": "2021-06-04T03:27:06.522623",
          "status": "completed"
        },
        "tags": [],
        "id": "inner-forth"
      },
      "source": [
        "# Set Hyperparameters"
      ]
    },
    {
      "cell_type": "code",
      "execution_count": 22,
      "id": "smaller-volunteer",
      "metadata": {
        "execution": {
          "iopub.execute_input": "2021-06-04T03:27:06.596197Z",
          "iopub.status.busy": "2021-06-04T03:27:06.595428Z",
          "iopub.status.idle": "2021-06-04T03:27:06.598075Z",
          "shell.execute_reply": "2021-06-04T03:27:06.597689Z",
          "shell.execute_reply.started": "2021-06-04T03:04:15.802408Z"
        },
        "papermill": {
          "duration": 0.029533,
          "end_time": "2021-06-04T03:27:06.598200",
          "exception": false,
          "start_time": "2021-06-04T03:27:06.568667",
          "status": "completed"
        },
        "tags": [],
        "id": "smaller-volunteer"
      },
      "outputs": [],
      "source": [
        "h, w = 224, 224\n",
        "batch_size = 32\n",
        "epochs = 4"
      ]
    },
    {
      "cell_type": "markdown",
      "id": "reported-champion",
      "metadata": {
        "papermill": {
          "duration": 0.022798,
          "end_time": "2021-06-04T03:27:06.643906",
          "exception": false,
          "start_time": "2021-06-04T03:27:06.621108",
          "status": "completed"
        },
        "tags": [],
        "id": "reported-champion"
      },
      "source": [
        "# Reading the image & saving as np.array, along with their respective labels"
      ]
    },
    {
      "cell_type": "code",
      "execution_count": 11,
      "id": "binary-popularity",
      "metadata": {
        "execution": {
          "iopub.execute_input": "2021-06-04T03:27:06.697233Z",
          "iopub.status.busy": "2021-06-04T03:27:06.696689Z",
          "iopub.status.idle": "2021-06-04T03:27:38.152184Z",
          "shell.execute_reply": "2021-06-04T03:27:38.151271Z",
          "shell.execute_reply.started": "2021-06-04T03:14:54.860675Z"
        },
        "papermill": {
          "duration": 31.485384,
          "end_time": "2021-06-04T03:27:38.152321",
          "exception": false,
          "start_time": "2021-06-04T03:27:06.666937",
          "status": "completed"
        },
        "tags": [],
        "id": "binary-popularity",
        "colab": {
          "base_uri": "https://localhost:8080/"
        },
        "outputId": "ada590ea-daf4-47c0-fde3-f3078ed6c52b"
      },
      "outputs": [
        {
          "output_type": "stream",
          "name": "stderr",
          "text": [
            "100%|██████████| 826/826 [00:19<00:00, 42.88it/s] \n",
            "100%|██████████| 395/395 [00:05<00:00, 72.89it/s] \n",
            "100%|██████████| 822/822 [00:15<00:00, 53.28it/s] \n",
            "100%|██████████| 827/827 [00:15<00:00, 51.80it/s] \n",
            "100%|██████████| 100/100 [00:01<00:00, 63.39it/s]\n",
            "100%|██████████| 105/105 [00:01<00:00, 88.70it/s] \n",
            "100%|██████████| 115/115 [00:01<00:00, 68.74it/s]\n",
            "100%|██████████| 74/74 [00:21<00:00,  3.51it/s]\n"
          ]
        }
      ],
      "source": [
        "IMAGE = []\n",
        "LABELS = []\n",
        "\n",
        "for label in labels:\n",
        "    folderPath = os.path.join('/content/drive/MyDrive/Brain-Tumor-Classification-DataSet-master/Training', label)\n",
        "    for j in tqdm(os.listdir(folderPath)):\n",
        "        img = cv2.imread(os.path.join(folderPath, j))\n",
        "        img = cv2.resize(img,(h, w))\n",
        "        IMAGE.append(img)\n",
        "        LABELS.append(class_map[label])\n",
        "            \n",
        "        \n",
        "for label in labels:\n",
        "    folderPath = os.path.join('/content/drive/MyDrive/Brain-Tumor-Classification-DataSet-master/Testing', label)\n",
        "    for j in tqdm(os.listdir(folderPath)):\n",
        "        img = cv2.imread(os.path.join(folderPath,j))\n",
        "        img = cv2.resize(img,(h, w))\n",
        "        IMAGE.append(img)\n",
        "        LABELS.append(class_map[label])\n",
        "        \n",
        "X = np.array(IMAGE)\n",
        "y = np.array(LABELS)"
      ]
    },
    {
      "cell_type": "markdown",
      "id": "serious-practice",
      "metadata": {
        "papermill": {
          "duration": 0.096682,
          "end_time": "2021-06-04T03:27:38.346002",
          "exception": false,
          "start_time": "2021-06-04T03:27:38.249320",
          "status": "completed"
        },
        "tags": [],
        "id": "serious-practice"
      },
      "source": [
        "# Looking at different types of tumor"
      ]
    },
    {
      "cell_type": "code",
      "execution_count": 12,
      "id": "parallel-melissa",
      "metadata": {
        "execution": {
          "iopub.execute_input": "2021-06-04T03:27:38.556028Z",
          "iopub.status.busy": "2021-06-04T03:27:38.555233Z",
          "iopub.status.idle": "2021-06-04T03:27:38.945425Z",
          "shell.execute_reply": "2021-06-04T03:27:38.945837Z",
          "shell.execute_reply.started": "2021-06-04T03:15:33.308780Z"
        },
        "papermill": {
          "duration": 0.502806,
          "end_time": "2021-06-04T03:27:38.945989",
          "exception": false,
          "start_time": "2021-06-04T03:27:38.443183",
          "status": "completed"
        },
        "tags": [],
        "id": "parallel-melissa",
        "colab": {
          "base_uri": "https://localhost:8080/",
          "height": 189
        },
        "outputId": "21785eed-ba4a-4803-d9b7-2d5691616031"
      },
      "outputs": [
        {
          "output_type": "display_data",
          "data": {
            "text/plain": [
              "<Figure size 1152x864 with 4 Axes>"
            ],
            "image/png": "[encoded data removed]"
          },
          "metadata": {
            "needs_background": "light"
          }
        }
      ],
      "source": [
        "plt.figure(figsize=(16, 12))\n",
        "\n",
        "path = '/content/drive/MyDrive/Brain-Tumor-Classification-DataSet-master/Training'\n",
        "fileNames = ['/glioma_tumor/gg (10).jpg', '/meningioma_tumor/m (108).jpg', '/no_tumor/image (16).jpg', '/pituitary_tumor/p (12).jpg']\n",
        "fileLabels = ['glioma_tumor', 'meningioma_tumor', 'no_tumor', 'pituitary_tumor']\n",
        "\n",
        "for i in range(4):\n",
        "    ax = plt.subplot(4, 4, i + 1)\n",
        "    img = mpimg.imread(path + fileNames[i])\n",
        "    img = cv2.resize(img, (h, w))\n",
        "    plt.imshow(img)\n",
        "    plt.title(fileLabels[i])\n",
        "    plt.axis(\"off\")"
      ]
    },
    {
      "cell_type": "code",
      "source": [
        "!pip install keras.utils "
      ],
      "metadata": {
        "colab": {
          "base_uri": "https://localhost:8080/"
        },
        "id": "-IqEzIDjZImD",
        "outputId": "290ce7df-76f2-4f63-e57a-3c22bd150ae6"
      },
      "id": "-IqEzIDjZImD",
      "execution_count": 13,
      "outputs": [
        {
          "output_type": "stream",
          "name": "stdout",
          "text": [
            "Looking in indexes: https://pypi.org/simple, https://us-python.pkg.dev/colab-wheels/public/simple/\n",
            "Collecting keras.utils\n",
            "  Downloading keras-utils-1.0.13.tar.gz (2.4 kB)\n",
            "Requirement already satisfied: Keras>=2.1.5 in /usr/local/lib/python3.7/dist-packages (from keras.utils) (2.8.0)\n",
            "Building wheels for collected packages: keras.utils\n",
            "  Building wheel for keras.utils (setup.py) ... \u001b[?25l\u001b[?25hdone\n",
            "  Created wheel for keras.utils: filename=keras_utils-1.0.13-py3-none-any.whl size=2656 sha256=3577be9932acd26bd2f117b1b2c3c7d9d73837ed754eacf3f45cf78e287d0d69\n",
            "  Stored in directory: /root/.cache/pip/wheels/d0/dd/3b/493952a5240d486a83805d65360dedadbadeae71d25e2c877f\n",
            "Successfully built keras.utils\n",
            "Installing collected packages: keras.utils\n",
            "Successfully installed keras.utils-1.0.13\n"
          ]
        }
      ]
    },
    {
      "cell_type": "markdown",
      "id": "cleared-template",
      "metadata": {
        "papermill": {
          "duration": 0.099257,
          "end_time": "2021-06-04T03:27:39.144245",
          "exception": false,
          "start_time": "2021-06-04T03:27:39.044988",
          "status": "completed"
        },
        "tags": [],
        "id": "cleared-template"
      },
      "source": [
        "# Create Train & Test sets"
      ]
    },
    {
      "cell_type": "code",
      "source": [
        "from tensorflow.keras.utils import to_categorical"
      ],
      "metadata": {
        "id": "8_1vyC1xZgfP"
      },
      "id": "8_1vyC1xZgfP",
      "execution_count": 14,
      "outputs": []
    },
    {
      "cell_type": "code",
      "execution_count": 15,
      "id": "starting-equation",
      "metadata": {
        "execution": {
          "iopub.execute_input": "2021-06-04T03:27:39.350050Z",
          "iopub.status.busy": "2021-06-04T03:27:39.348855Z",
          "iopub.status.idle": "2021-06-04T03:27:39.626961Z",
          "shell.execute_reply": "2021-06-04T03:27:39.626513Z",
          "shell.execute_reply.started": "2021-06-04T03:16:37.178535Z"
        },
        "papermill": {
          "duration": 0.38284,
          "end_time": "2021-06-04T03:27:39.627086",
          "exception": false,
          "start_time": "2021-06-04T03:27:39.244246",
          "status": "completed"
        },
        "tags": [],
        "id": "starting-equation"
      },
      "outputs": [],
      "source": [
        "X, y = shuffle(X, y, random_state=42)\n",
        "\n",
        "X_train, X_test, y_train, y_test = train_test_split(X, to_categorical(y), test_size=0.1, random_state=42)"
      ]
    },
    {
      "cell_type": "code",
      "source": [
        "from tensorflow.keras.layers import Input\n",
        "from tensorflow.keras.applications import MobileNet, MobileNetV2, VGG16\n",
        "from tensorflow.keras.models import Sequential\n",
        "from tensorflow.keras.callbacks import EarlyStopping\n",
        "from tensorflow.keras.layers import Dropout, Dense, BatchNormalization\n",
        "from tensorflow.keras.preprocessing.image import ImageDataGenerator\n",
        "from tensorflow.keras.callbacks import EarlyStopping, ReduceLROnPlateau"
      ],
      "metadata": {
        "id": "hAn_Lt1Eauzi"
      },
      "id": "hAn_Lt1Eauzi",
      "execution_count": 16,
      "outputs": []
    },
    {
      "cell_type": "markdown",
      "id": "cooperative-disney",
      "metadata": {
        "papermill": {
          "duration": 0.099231,
          "end_time": "2021-06-04T03:27:39.825237",
          "exception": false,
          "start_time": "2021-06-04T03:27:39.726006",
          "status": "completed"
        },
        "tags": [],
        "id": "cooperative-disney"
      },
      "source": [
        "# Define CNN model"
      ]
    },
    {
      "cell_type": "code",
      "execution_count": 17,
      "id": "instant-margin",
      "metadata": {
        "_kg_hide-output": true,
        "execution": {
          "iopub.execute_input": "2021-06-04T03:27:40.031591Z",
          "iopub.status.busy": "2021-06-04T03:27:40.030911Z",
          "iopub.status.idle": "2021-06-04T03:27:42.904994Z",
          "shell.execute_reply": "2021-06-04T03:27:42.904311Z",
          "shell.execute_reply.started": "2021-06-04T03:23:14.258427Z"
        },
        "papermill": {
          "duration": 2.980413,
          "end_time": "2021-06-04T03:27:42.905177",
          "exception": false,
          "start_time": "2021-06-04T03:27:39.924764",
          "status": "completed"
        },
        "tags": [],
        "id": "instant-margin",
        "colab": {
          "base_uri": "https://localhost:8080/"
        },
        "outputId": "8a700e7c-b012-48c5-cfa5-1f081ee7b873"
      },
      "outputs": [
        {
          "output_type": "stream",
          "name": "stdout",
          "text": [
            "Downloading data from https://storage.googleapis.com/tensorflow/keras-applications/vgg16/vgg16_weights_tf_dim_ordering_tf_kernels_notop.h5\n",
            "58892288/58889256 [==============================] - 1s 0us/step\n",
            "58900480/58889256 [==============================] - 1s 0us/step\n",
            "Model: \"vgg16\"\n",
            "_________________________________________________________________\n",
            " Layer (type)                Output Shape              Param #   \n",
            "=================================================================\n",
            " input_1 (InputLayer)        [(None, 224, 224, 3)]     0         \n",
            "                                                                 \n",
            " block1_conv1 (Conv2D)       (None, 224, 224, 64)      1792      \n",
            "                                                                 \n",
            " block1_conv2 (Conv2D)       (None, 224, 224, 64)      36928     \n",
            "                                                                 \n",
            " block1_pool (MaxPooling2D)  (None, 112, 112, 64)      0         \n",
            "                                                                 \n",
            " block2_conv1 (Conv2D)       (None, 112, 112, 128)     73856     \n",
            "                                                                 \n",
            " block2_conv2 (Conv2D)       (None, 112, 112, 128)     147584    \n",
            "                                                                 \n",
            " block2_pool (MaxPooling2D)  (None, 56, 56, 128)       0         \n",
            "                                                                 \n",
            " block3_conv1 (Conv2D)       (None, 56, 56, 256)       295168    \n",
            "                                                                 \n",
            " block3_conv2 (Conv2D)       (None, 56, 56, 256)       590080    \n",
            "                                                                 \n",
            " block3_conv3 (Conv2D)       (None, 56, 56, 256)       590080    \n",
            "                                                                 \n",
            " block3_pool (MaxPooling2D)  (None, 28, 28, 256)       0         \n",
            "                                                                 \n",
            " block4_conv1 (Conv2D)       (None, 28, 28, 512)       1180160   \n",
            "                                                                 \n",
            " block4_conv2 (Conv2D)       (None, 28, 28, 512)       2359808   \n",
            "                                                                 \n",
            " block4_conv3 (Conv2D)       (None, 28, 28, 512)       2359808   \n",
            "                                                                 \n",
            " block4_pool (MaxPooling2D)  (None, 14, 14, 512)       0         \n",
            "                                                                 \n",
            " block5_conv1 (Conv2D)       (None, 14, 14, 512)       2359808   \n",
            "                                                                 \n",
            " block5_conv2 (Conv2D)       (None, 14, 14, 512)       2359808   \n",
            "                                                                 \n",
            " block5_conv3 (Conv2D)       (None, 14, 14, 512)       2359808   \n",
            "                                                                 \n",
            " block5_pool (MaxPooling2D)  (None, 7, 7, 512)         0         \n",
            "                                                                 \n",
            " global_max_pooling2d (Globa  (None, 512)              0         \n",
            " lMaxPooling2D)                                                  \n",
            "                                                                 \n",
            "=================================================================\n",
            "Total params: 14,714,688\n",
            "Trainable params: 14,714,688\n",
            "Non-trainable params: 0\n",
            "_________________________________________________________________\n"
          ]
        }
      ],
      "source": [
        "# base_model = MobileNet(\n",
        "#     input_shape=(h, w, 3), \n",
        "#     weights='imagenet',\n",
        "#     include_top=False, \n",
        "#     pooling='avg'\n",
        "# )\n",
        "\n",
        "base_model = VGG16(\n",
        "    input_shape=(h, w, 3), \n",
        "    weights='imagenet',\n",
        "    include_top=False, \n",
        "    pooling='max'\n",
        ")\n",
        "\n",
        "base_model.summary()"
      ]
    },
    {
      "cell_type": "markdown",
      "id": "logical-march",
      "metadata": {
        "papermill": {
          "duration": 0.105724,
          "end_time": "2021-06-04T03:27:43.115978",
          "exception": false,
          "start_time": "2021-06-04T03:27:43.010254",
          "status": "completed"
        },
        "tags": [],
        "id": "logical-march"
      },
      "source": [
        "# Set the no. of output class of the model"
      ]
    },
    {
      "cell_type": "code",
      "execution_count": 18,
      "id": "manual-server",
      "metadata": {
        "execution": {
          "iopub.execute_input": "2021-06-04T03:27:43.337734Z",
          "iopub.status.busy": "2021-06-04T03:27:43.336874Z",
          "iopub.status.idle": "2021-06-04T03:27:43.405927Z",
          "shell.execute_reply": "2021-06-04T03:27:43.405338Z",
          "shell.execute_reply.started": "2021-06-04T03:24:12.000860Z"
        },
        "papermill": {
          "duration": 0.18079,
          "end_time": "2021-06-04T03:27:43.406087",
          "exception": false,
          "start_time": "2021-06-04T03:27:43.225297",
          "status": "completed"
        },
        "tags": [],
        "id": "manual-server",
        "colab": {
          "base_uri": "https://localhost:8080/"
        },
        "outputId": "42ee316b-4961-42b4-a22d-abb5de0ce9e6"
      },
      "outputs": [
        {
          "output_type": "stream",
          "name": "stdout",
          "text": [
            "Model: \"sequential\"\n",
            "_________________________________________________________________\n",
            " Layer (type)                Output Shape              Param #   \n",
            "=================================================================\n",
            " vgg16 (Functional)          (None, 512)               14714688  \n",
            "                                                                 \n",
            " dropout (Dropout)           (None, 512)               0         \n",
            "                                                                 \n",
            " dense (Dense)               (None, 4)                 2052      \n",
            "                                                                 \n",
            "=================================================================\n",
            "Total params: 14,716,740\n",
            "Trainable params: 2,052\n",
            "Non-trainable params: 14,714,688\n",
            "_________________________________________________________________\n"
          ]
        }
      ],
      "source": [
        "base_model.trainable = False\n",
        "\n",
        "output_class = 4\n",
        "\n",
        "model = Sequential([\n",
        "    base_model,\n",
        "    Dropout(rate=0.5),\n",
        "    Dense(output_class, activation='softmax')\n",
        "])\n",
        "\n",
        "model.compile(loss='categorical_crossentropy', optimizer='adam', metrics=['accuracy'])\n",
        "model.summary()"
      ]
    },
    {
      "cell_type": "markdown",
      "id": "suspended-momentum",
      "metadata": {
        "papermill": {
          "duration": 0.103748,
          "end_time": "2021-06-04T03:27:43.612811",
          "exception": false,
          "start_time": "2021-06-04T03:27:43.509063",
          "status": "completed"
        },
        "tags": [],
        "id": "suspended-momentum"
      },
      "source": [
        "# Defining Callbacks"
      ]
    },
    {
      "cell_type": "code",
      "execution_count": 19,
      "id": "isolated-alarm",
      "metadata": {
        "execution": {
          "iopub.execute_input": "2021-06-04T03:27:43.823215Z",
          "iopub.status.busy": "2021-06-04T03:27:43.822626Z",
          "iopub.status.idle": "2021-06-04T03:27:43.826404Z",
          "shell.execute_reply": "2021-06-04T03:27:43.825975Z",
          "shell.execute_reply.started": "2021-06-04T03:24:15.243069Z"
        },
        "papermill": {
          "duration": 0.110676,
          "end_time": "2021-06-04T03:27:43.826519",
          "exception": false,
          "start_time": "2021-06-04T03:27:43.715843",
          "status": "completed"
        },
        "tags": [],
        "id": "isolated-alarm"
      },
      "outputs": [],
      "source": [
        "earlystop = EarlyStopping(monitor='val_loss', patience=5)\n",
        "\n",
        "learning_rate_reduction = ReduceLROnPlateau(monitor='val_acc', \n",
        "                                            patience=2, \n",
        "                                            verbose=1, \n",
        "                                            factor=0.5, \n",
        "                                            min_lr=0.00001)\n",
        "\n",
        "callbacks = [earlystop, learning_rate_reduction]"
      ]
    },
    {
      "cell_type": "markdown",
      "id": "interesting-insurance",
      "metadata": {
        "papermill": {
          "duration": 0.102117,
          "end_time": "2021-06-04T03:27:44.031266",
          "exception": false,
          "start_time": "2021-06-04T03:27:43.929149",
          "status": "completed"
        },
        "tags": [],
        "id": "interesting-insurance"
      },
      "source": [
        "# Image Augmentation"
      ]
    },
    {
      "cell_type": "code",
      "execution_count": 20,
      "id": "emotional-minimum",
      "metadata": {
        "execution": {
          "iopub.execute_input": "2021-06-04T03:27:44.243504Z",
          "iopub.status.busy": "2021-06-04T03:27:44.242637Z",
          "iopub.status.idle": "2021-06-04T03:27:44.245134Z",
          "shell.execute_reply": "2021-06-04T03:27:44.244719Z",
          "shell.execute_reply.started": "2021-06-04T03:24:18.243552Z"
        },
        "papermill": {
          "duration": 0.110641,
          "end_time": "2021-06-04T03:27:44.245250",
          "exception": false,
          "start_time": "2021-06-04T03:27:44.134609",
          "status": "completed"
        },
        "tags": [],
        "id": "emotional-minimum"
      },
      "outputs": [],
      "source": [
        "datagen = ImageDataGenerator(\n",
        "        rescale=1./255,\n",
        "        shear_range=0.2,\n",
        "        zoom_range=0.2,\n",
        "        horizontal_flip=True)"
      ]
    },
    {
      "cell_type": "markdown",
      "id": "incorrect-surrey",
      "metadata": {
        "papermill": {
          "duration": 0.102658,
          "end_time": "2021-06-04T03:27:44.449721",
          "exception": false,
          "start_time": "2021-06-04T03:27:44.347063",
          "status": "completed"
        },
        "tags": [],
        "id": "incorrect-surrey"
      },
      "source": [
        "# Training our model"
      ]
    },
    {
      "cell_type": "code",
      "execution_count": 23,
      "id": "established-lease",
      "metadata": {
        "execution": {
          "iopub.execute_input": "2021-06-04T03:27:44.661789Z",
          "iopub.status.busy": "2021-06-04T03:27:44.660698Z",
          "iopub.status.idle": "2021-06-04T04:03:33.564917Z",
          "shell.execute_reply": "2021-06-04T04:03:33.565416Z",
          "shell.execute_reply.started": "2021-06-04T03:24:21.837221Z"
        },
        "papermill": {
          "duration": 2149.012793,
          "end_time": "2021-06-04T04:03:33.565584",
          "exception": false,
          "start_time": "2021-06-04T03:27:44.552791",
          "status": "completed"
        },
        "tags": [],
        "id": "established-lease",
        "colab": {
          "base_uri": "https://localhost:8080/"
        },
        "outputId": "5d452f49-60cf-4d6d-9da9-9b8977287a6f"
      },
      "outputs": [
        {
          "output_type": "stream",
          "name": "stdout",
          "text": [
            "Epoch 1/4\n",
            "92/91 [==============================] - ETA: -3s - loss: 1.5416 - accuracy: 0.3572WARNING:tensorflow:Learning rate reduction is conditioned on metric `val_acc` which is not available. Available metrics are: loss,accuracy,val_loss,val_accuracy,lr\n",
            "91/91 [==============================] - 1672s 18s/step - loss: 1.5416 - accuracy: 0.3572 - val_loss: 39.2243 - val_accuracy: 0.3119 - lr: 0.0010\n",
            "Epoch 2/4\n",
            "92/91 [==============================] - ETA: -3s - loss: 1.2532 - accuracy: 0.4528WARNING:tensorflow:Learning rate reduction is conditioned on metric `val_acc` which is not available. Available metrics are: loss,accuracy,val_loss,val_accuracy,lr\n",
            "91/91 [==============================] - 1696s 18s/step - loss: 1.2532 - accuracy: 0.4528 - val_loss: 52.0420 - val_accuracy: 0.3089 - lr: 0.0010\n",
            "Epoch 3/4\n",
            "92/91 [==============================] - ETA: -3s - loss: 1.1031 - accuracy: 0.5431WARNING:tensorflow:Learning rate reduction is conditioned on metric `val_acc` which is not available. Available metrics are: loss,accuracy,val_loss,val_accuracy,lr\n",
            "91/91 [==============================] - 1676s 18s/step - loss: 1.1031 - accuracy: 0.5431 - val_loss: 67.3123 - val_accuracy: 0.3150 - lr: 0.0010\n",
            "Epoch 4/4\n",
            "92/91 [==============================] - ETA: -3s - loss: 1.0281 - accuracy: 0.5676WARNING:tensorflow:Learning rate reduction is conditioned on metric `val_acc` which is not available. Available metrics are: loss,accuracy,val_loss,val_accuracy,lr\n",
            "91/91 [==============================] - 1671s 18s/step - loss: 1.0281 - accuracy: 0.5676 - val_loss: 71.5274 - val_accuracy: 0.3180 - lr: 0.0010\n"
          ]
        }
      ],
      "source": [
        "history = model.fit(datagen.flow(X_train, y_train, batch_size = batch_size), validation_data = (X_test, y_test),\n",
        "                    steps_per_epoch = len(X_train) / batch_size, epochs = epochs, callbacks = callbacks)"
      ]
    },
    {
      "cell_type": "markdown",
      "id": "international-graduate",
      "metadata": {
        "papermill": {
          "duration": 0.245094,
          "end_time": "2021-06-04T04:03:34.054557",
          "exception": false,
          "start_time": "2021-06-04T04:03:33.809463",
          "status": "completed"
        },
        "tags": [],
        "id": "international-graduate"
      },
      "source": [
        "# Checking model performance"
      ]
    },
    {
      "cell_type": "code",
      "execution_count": 24,
      "id": "immune-chancellor",
      "metadata": {
        "execution": {
          "iopub.execute_input": "2021-06-04T04:03:34.553547Z",
          "iopub.status.busy": "2021-06-04T04:03:34.552743Z",
          "iopub.status.idle": "2021-06-04T04:03:34.806847Z",
          "shell.execute_reply": "2021-06-04T04:03:34.807281Z",
          "shell.execute_reply.started": "2021-06-03T12:54:33.77867Z"
        },
        "papermill": {
          "duration": 0.505403,
          "end_time": "2021-06-04T04:03:34.807427",
          "exception": false,
          "start_time": "2021-06-04T04:03:34.302024",
          "status": "completed"
        },
        "tags": [],
        "id": "immune-chancellor",
        "colab": {
          "base_uri": "https://localhost:8080/",
          "height": 384
        },
        "outputId": "2783c8c7-1687-4df0-f1c5-ac1c5dbd5f58"
      },
      "outputs": [
        {
          "output_type": "display_data",
          "data": {
            "text/plain": [
              "<Figure size 1296x432 with 2 Axes>"
            ],
            "image/png": "[encoded data removed]"
          },
          "metadata": {
            "needs_background": "light"
          }
        }
      ],
      "source": [
        "acc = history.history['accuracy']\n",
        "val_acc = history.history['val_accuracy']\n",
        "\n",
        "loss = history.history['loss']\n",
        "val_loss = history.history['val_loss']\n",
        "\n",
        "epochs_range = range(len(history.history['accuracy']))\n",
        "\n",
        "plt.figure(figsize=(18, 6))\n",
        "plt.subplot(1, 2, 1)\n",
        "plt.plot(range(len(history.history['accuracy'])), acc, label='Training Accuracy')\n",
        "plt.plot(epochs_range, val_acc, label='Validation Accuracy')\n",
        "plt.legend(loc='upper right')\n",
        "plt.title('Training and Validation Accuracy')\n",
        "\n",
        "plt.subplot(1, 2, 2)\n",
        "plt.plot(epochs_range, loss, label='Training Loss')\n",
        "plt.plot(epochs_range, val_loss, label='Validation Loss')\n",
        "plt.legend(loc='upper right')\n",
        "plt.title('Training and Validation Loss')\n",
        "plt.show()"
      ]
    },
    {
      "cell_type": "markdown",
      "id": "modified-canal",
      "metadata": {
        "papermill": {
          "duration": 0.248974,
          "end_time": "2021-06-04T04:03:35.304629",
          "exception": false,
          "start_time": "2021-06-04T04:03:35.055655",
          "status": "completed"
        },
        "tags": [],
        "id": "modified-canal"
      },
      "source": [
        "# Predicting with our model"
      ]
    },
    {
      "cell_type": "code",
      "execution_count": 25,
      "id": "acceptable-crest",
      "metadata": {
        "execution": {
          "iopub.execute_input": "2021-06-04T04:03:35.802019Z",
          "iopub.status.busy": "2021-06-04T04:03:35.801055Z",
          "iopub.status.idle": "2021-06-04T04:04:11.335651Z",
          "shell.execute_reply": "2021-06-04T04:04:11.336074Z",
          "shell.execute_reply.started": "2021-06-03T12:58:20.537487Z"
        },
        "papermill": {
          "duration": 35.785823,
          "end_time": "2021-06-04T04:04:11.336238",
          "exception": false,
          "start_time": "2021-06-04T04:03:35.550415",
          "status": "completed"
        },
        "tags": [],
        "id": "acceptable-crest",
        "colab": {
          "base_uri": "https://localhost:8080/"
        },
        "outputId": "364ccefe-432f-4e1d-a913-4a1653416b7a"
      },
      "outputs": [
        {
          "output_type": "stream",
          "name": "stdout",
          "text": [
            "[[8.5744307e-15 0.0000000e+00 1.0000000e+00 0.0000000e+00]\n",
            " [3.3842789e-26 1.8705565e-07 9.9999976e-01 0.0000000e+00]\n",
            " [3.9363796e-24 0.0000000e+00 1.0000000e+00 0.0000000e+00]\n",
            " [1.0000000e+00 0.0000000e+00 4.7037901e-11 0.0000000e+00]\n",
            " [1.0000000e+00 0.0000000e+00 0.0000000e+00 0.0000000e+00]]\n"
          ]
        }
      ],
      "source": [
        "predicted_labels = model.predict(X_test)\n",
        "print(predicted_labels[:5])"
      ]
    },
    {
      "cell_type": "code",
      "execution_count": 26,
      "id": "norwegian-guest",
      "metadata": {
        "execution": {
          "iopub.execute_input": "2021-06-04T04:04:11.830330Z",
          "iopub.status.busy": "2021-06-04T04:04:11.829542Z",
          "iopub.status.idle": "2021-06-04T04:04:11.834882Z",
          "shell.execute_reply": "2021-06-04T04:04:11.834483Z",
          "shell.execute_reply.started": "2021-06-03T12:59:33.860301Z"
        },
        "papermill": {
          "duration": 0.254087,
          "end_time": "2021-06-04T04:04:11.834993",
          "exception": false,
          "start_time": "2021-06-04T04:04:11.580906",
          "status": "completed"
        },
        "tags": [],
        "id": "norwegian-guest",
        "colab": {
          "base_uri": "https://localhost:8080/"
        },
        "outputId": "5a8fc4a8-2b06-4bf1-cbd8-fa30d37d207e"
      },
      "outputs": [
        {
          "output_type": "stream",
          "name": "stdout",
          "text": [
            "[2, 2, 2, 0, 0]\n"
          ]
        }
      ],
      "source": [
        "predicted_labels = [np.argmax(i) for i in predicted_labels]\n",
        "print(predicted_labels[:5])"
      ]
    },
    {
      "cell_type": "code",
      "execution_count": 27,
      "id": "awful-lotus",
      "metadata": {
        "execution": {
          "iopub.execute_input": "2021-06-04T04:04:12.335058Z",
          "iopub.status.busy": "2021-06-04T04:04:12.334263Z",
          "iopub.status.idle": "2021-06-04T04:04:12.337771Z",
          "shell.execute_reply": "2021-06-04T04:04:12.338187Z",
          "shell.execute_reply.started": "2021-06-03T12:59:36.491495Z"
        },
        "papermill": {
          "duration": 0.257729,
          "end_time": "2021-06-04T04:04:12.338318",
          "exception": false,
          "start_time": "2021-06-04T04:04:12.080589",
          "status": "completed"
        },
        "tags": [],
        "id": "awful-lotus",
        "colab": {
          "base_uri": "https://localhost:8080/"
        },
        "outputId": "c7a7b1e5-a1f1-44b4-c11d-3cc3b776e2bd"
      },
      "outputs": [
        {
          "output_type": "stream",
          "name": "stdout",
          "text": [
            "[3, 1, 2, 3, 1]\n"
          ]
        }
      ],
      "source": [
        "original_labels =[np.argmax(i) for i in y_test]\n",
        "print(original_labels[:5])"
      ]
    },
    {
      "cell_type": "markdown",
      "id": "alone-triangle",
      "metadata": {
        "papermill": {
          "duration": 0.24346,
          "end_time": "2021-06-04T04:04:12.868673",
          "exception": false,
          "start_time": "2021-06-04T04:04:12.625213",
          "status": "completed"
        },
        "tags": [],
        "id": "alone-triangle"
      },
      "source": [
        "# Checking prediction accuracy with confusion matrix"
      ]
    },
    {
      "cell_type": "code",
      "execution_count": 28,
      "id": "corrected-madness",
      "metadata": {
        "execution": {
          "iopub.execute_input": "2021-06-04T04:04:13.368821Z",
          "iopub.status.busy": "2021-06-04T04:04:13.367980Z",
          "iopub.status.idle": "2021-06-04T04:04:13.381021Z",
          "shell.execute_reply": "2021-06-04T04:04:13.380618Z",
          "shell.execute_reply.started": "2021-06-03T13:05:05.609238Z"
        },
        "papermill": {
          "duration": 0.266064,
          "end_time": "2021-06-04T04:04:13.381147",
          "exception": false,
          "start_time": "2021-06-04T04:04:13.115083",
          "status": "completed"
        },
        "tags": [],
        "id": "corrected-madness",
        "colab": {
          "base_uri": "https://localhost:8080/"
        },
        "outputId": "309181e0-996d-43dc-9be8-589164053c1a"
      },
      "outputs": [
        {
          "output_type": "stream",
          "name": "stdout",
          "text": [
            "Confusion Matrix ==>\n",
            "[[48  0  0  0]\n",
            " [38  2 60  0]\n",
            " [37  2 54  0]\n",
            " [49  0 37  0]]\n",
            "----------------------------------------------------------------------------------------\n",
            "Classification Report ==>\n",
            "              precision    recall  f1-score   support\n",
            "\n",
            "           0       0.28      1.00      0.44        48\n",
            "           1       0.50      0.02      0.04       100\n",
            "           2       0.36      0.58      0.44        93\n",
            "           3       0.00      0.00      0.00        86\n",
            "\n",
            "    accuracy                           0.32       327\n",
            "   macro avg       0.28      0.40      0.23       327\n",
            "weighted avg       0.30      0.32      0.20       327\n",
            "\n"
          ]
        },
        {
          "output_type": "stream",
          "name": "stderr",
          "text": [
            "/usr/local/lib/python3.7/dist-packages/sklearn/metrics/_classification.py:1318: UndefinedMetricWarning: Precision and F-score are ill-defined and being set to 0.0 in labels with no predicted samples. Use `zero_division` parameter to control this behavior.\n",
            "  _warn_prf(average, modifier, msg_start, len(result))\n",
            "/usr/local/lib/python3.7/dist-packages/sklearn/metrics/_classification.py:1318: UndefinedMetricWarning: Precision and F-score are ill-defined and being set to 0.0 in labels with no predicted samples. Use `zero_division` parameter to control this behavior.\n",
            "  _warn_prf(average, modifier, msg_start, len(result))\n",
            "/usr/local/lib/python3.7/dist-packages/sklearn/metrics/_classification.py:1318: UndefinedMetricWarning: Precision and F-score are ill-defined and being set to 0.0 in labels with no predicted samples. Use `zero_division` parameter to control this behavior.\n",
            "  _warn_prf(average, modifier, msg_start, len(result))\n"
          ]
        }
      ],
      "source": [
        "from sklearn.metrics import classification_report,confusion_matrix\n",
        "\n",
        "conf_mat = confusion_matrix(original_labels, predicted_labels)\n",
        "report = classification_report(original_labels, predicted_labels)\n",
        "\n",
        "print('Confusion Matrix ==>')\n",
        "print(conf_mat)\n",
        "print('----------------------------------------------------------------------------------------')\n",
        "print('Classification Report ==>')\n",
        "print(report)"
      ]
    },
    {
      "cell_type": "markdown",
      "id": "indoor-foundation",
      "metadata": {
        "papermill": {
          "duration": 0.2477,
          "end_time": "2021-06-04T04:04:13.875452",
          "exception": false,
          "start_time": "2021-06-04T04:04:13.627752",
          "status": "completed"
        },
        "tags": [],
        "id": "indoor-foundation"
      },
      "source": [
        "# Converting labels to their respective class names"
      ]
    },
    {
      "cell_type": "code",
      "execution_count": 29,
      "id": "guilty-typing",
      "metadata": {
        "execution": {
          "iopub.execute_input": "2021-06-04T04:04:14.371216Z",
          "iopub.status.busy": "2021-06-04T04:04:14.370610Z",
          "iopub.status.idle": "2021-06-04T04:04:14.373384Z",
          "shell.execute_reply": "2021-06-04T04:04:14.373788Z",
          "shell.execute_reply.started": "2021-06-03T12:55:44.368811Z"
        },
        "papermill": {
          "duration": 0.253361,
          "end_time": "2021-06-04T04:04:14.373916",
          "exception": false,
          "start_time": "2021-06-04T04:04:14.120555",
          "status": "completed"
        },
        "tags": [],
        "id": "guilty-typing",
        "colab": {
          "base_uri": "https://localhost:8080/"
        },
        "outputId": "393ecdcd-64b7-487e-b7b6-e5b71334b90d"
      },
      "outputs": [
        {
          "output_type": "stream",
          "name": "stdout",
          "text": [
            "['meningioma_tumor', 'meningioma_tumor', 'meningioma_tumor', 'no_tumor', 'no_tumor']\n"
          ]
        }
      ],
      "source": [
        "predicted_labels = [inverse_class_map[x] for x in predicted_labels]\n",
        "print(predicted_labels[:5])"
      ]
    },
    {
      "cell_type": "markdown",
      "id": "vietnamese-creativity",
      "metadata": {
        "papermill": {
          "duration": 0.253088,
          "end_time": "2021-06-04T04:04:14.872633",
          "exception": false,
          "start_time": "2021-06-04T04:04:14.619545",
          "status": "completed"
        },
        "tags": [],
        "id": "vietnamese-creativity"
      },
      "source": [
        "# Saving our model"
      ]
    },
    {
      "cell_type": "code",
      "execution_count": 30,
      "id": "still-strain",
      "metadata": {
        "execution": {
          "iopub.execute_input": "2021-06-04T04:04:15.376725Z",
          "iopub.status.busy": "2021-06-04T04:04:15.375914Z",
          "iopub.status.idle": "2021-06-04T04:04:15.378723Z",
          "shell.execute_reply": "2021-06-04T04:04:15.378313Z",
          "shell.execute_reply.started": "2021-06-03T12:55:44.37593Z"
        },
        "papermill": {
          "duration": 0.259474,
          "end_time": "2021-06-04T04:04:15.378835",
          "exception": false,
          "start_time": "2021-06-04T04:04:15.119361",
          "status": "completed"
        },
        "tags": [],
        "id": "still-strain"
      },
      "outputs": [],
      "source": [
        "# model.save(\"tumorModel.h5\")"
      ]
    }
  ],
  "metadata": {
    "kernelspec": {
      "display_name": "Python 3",
      "language": "python",
      "name": "python3"
    },
    "language_info": {
      "codemirror_mode": {
        "name": "ipython",
        "version": 3
      },
      "file_extension": ".py",
      "mimetype": "text/x-python",
      "name": "python",
      "nbconvert_exporter": "python",
      "pygments_lexer": "ipython3",
      "version": "3.7.10"
    },
    "papermill": {
      "default_parameters": {},
      "duration": 2244.411991,
      "end_time": "2021-06-04T04:04:18.232024",
      "environment_variables": {},
      "exception": null,
      "input_path": "__notebook__.ipynb",
      "output_path": "__notebook__.ipynb",
      "parameters": {},
      "start_time": "2021-06-04T03:26:53.820033",
      "version": "2.3.3"
    },
    "colab": {
      "name": "tumor-classification.ipynb",
      "provenance": []
    },
    "accelerator": "TPU",
    "gpuClass": "standard"
  },
  "nbformat": 4,
  "nbformat_minor": 5
}
